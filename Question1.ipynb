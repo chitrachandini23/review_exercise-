{
 "cells": [
  {
   "cell_type": "markdown",
   "id": "6541ba51-1edb-4881-9b15-605b692979df",
   "metadata": {},
   "source": [
    "### Operations by List"
   ]
  },
  {
   "cell_type": "code",
   "execution_count": 15,
   "id": "5c438a51-69ad-4322-8656-4d2990ada5e5",
   "metadata": {},
   "outputs": [
    {
     "name": "stdout",
     "output_type": "stream",
     "text": [
      "Matrix addition using list:  [[6.9061, 6.444100000000001, 6.3575], [4.3233, 6.79, 7.242], [2.2221, 4.239, 11.0321]]\n",
      "Matrix subtraction using list:  [[0.6593, 0.24670000000000014, 0.11070000000000002], [0.10110000000000019, 0.34560000000000013, 0.5754000000000001], [0.024699999999999944, 1.5478000000000003, 0.7852999999999994]]\n",
      "Matrix multipication using list:  [[22.43066479, 26.852805330000002, 39.53569494], [18.73605675, 23.61065602, 38.8279668], [16.10897299, 20.754939779999997, 43.42603136]]\n",
      "\n",
      "\n",
      "\n",
      "\n",
      "         73 function calls in 0.000 seconds\n",
      "\n",
      "   Ordered by: standard name\n",
      "\n",
      "   ncalls  tottime  percall  cumtime  percall filename:lineno(function)\n",
      "        1    0.000    0.000    0.000    0.000 755495116.py:11(multiplication_using_list)\n",
      "       36    0.000    0.000    0.000    0.000 755495116.py:12(<genexpr>)\n",
      "        1    0.000    0.000    0.000    0.000 755495116.py:15(subtract_using_list)\n",
      "        1    0.000    0.000    0.000    0.000 755495116.py:25(profile_list_operations)\n",
      "        1    0.000    0.000    0.000    0.000 755495116.py:7(addition_using_list)\n",
      "        1    0.000    0.000    0.000    0.000 <string>:1(<module>)\n",
      "        1    0.000    0.000    0.000    0.000 {built-in method builtins.exec}\n",
      "       21    0.000    0.000    0.000    0.000 {built-in method builtins.len}\n",
      "        9    0.000    0.000    0.000    0.000 {built-in method builtins.sum}\n",
      "        1    0.000    0.000    0.000    0.000 {method 'disable' of '_lsprof.Profiler' objects}\n",
      "\n",
      "\n"
     ]
    }
   ],
   "source": [
    "# initialized the matrices using variables A, B, C\n",
    "A = [[3.7827, 3.3454, 3.2341], [2.2122, 3.5678, 3.9087], [1.1234, 2.8934, 5.9087]]\n",
    "B = [[3.1234, 3.0987, 3.1234], [2.1111, 3.2222, 3.3333], [1.0987, 1.3456, 5.1234]]\n",
    "C = [[3.1243, 3.0989, 3.1256], [2.6721, 3.6785, 3.9017], [1.1254, 2.8956, 5.9187]]\n",
    "\n",
    "# Using python lists adding the matrices\n",
    "def addition_using_list(A, B):\n",
    "    return [[A[i][j] + B[i][j] for j in range(len(A[0]))] for i in range(len(A))]\n",
    "\n",
    "# Using python lists multiplying the matrices\n",
    "def multiplication_using_list(A, B):\n",
    "    return [[sum(A[i][k] * B[k][j] for k in range(len(B))) for j in range(len(B[0]))] for i in range(len(A))]\n",
    "\n",
    "# Using python lists subtracting the matrices\n",
    "def subtract_using_list(A, B):\n",
    "    return [[A[i][j] - B[i][j] for j in range(len(A[0]))] for i in range(len(A))]\n",
    "\n",
    "print(\"Matrix addition using list: \", addition_using_list(A,B))\n",
    "print(\"Matrix subtraction using list: \", subtract_using_list(A,B))\n",
    "print(\"Matrix multipication using list: \", multiplication_using_list(A,B))\n",
    "print(\"\\n\\n\\n\")\n",
    "\n",
    "#profile the operation by list\n",
    "import cProfile\n",
    "def profile_list_operations():\n",
    "    addition_using_list(A, B)\n",
    "    subtract_using_list(A, C)\n",
    "    multiplication_using_list(A, B)\n",
    "\n",
    "cProfile.run('profile_list_operations()')"
   ]
  },
  {
   "cell_type": "markdown",
   "id": "2cec4be3-8317-417d-9370-3e06933536f0",
   "metadata": {},
   "source": [
    "## Operations by Numpy"
   ]
  },
  {
   "cell_type": "code",
   "execution_count": 21,
   "id": "a9122a24-6f44-4715-8f94-22fc834a7684",
   "metadata": {},
   "outputs": [
    {
     "name": "stdout",
     "output_type": "stream",
     "text": [
      "Matrix addition using np:  [[ 6.9061  6.4441  6.3575]\n",
      " [ 4.3233  6.79    7.242 ]\n",
      " [ 2.2221  4.239  11.0321]]\n",
      "Matrix subtraction using np:  [[0.6593 0.2467 0.1107]\n",
      " [0.1011 0.3456 0.5754]\n",
      " [0.0247 1.5478 0.7853]]\n",
      "Matrix multipication using np:  [[22.43066479 26.85280533 39.53569494]\n",
      " [18.73605675 23.61065602 38.8279668 ]\n",
      " [16.10897299 20.75493978 43.42603136]]\n",
      "\n",
      "\n",
      "\n",
      "\n",
      "         8 function calls in 0.000 seconds\n",
      "\n",
      "   Ordered by: standard name\n",
      "\n",
      "   ncalls  tottime  percall  cumtime  percall filename:lineno(function)\n",
      "        1    0.000    0.000    0.000    0.000 2058556789.py:13(multiplication_using_np)\n",
      "        1    0.000    0.000    0.000    0.000 2058556789.py:17(subtraction_using_np)\n",
      "        1    0.000    0.000    0.000    0.000 2058556789.py:27(profile_numpy_operations)\n",
      "        1    0.000    0.000    0.000    0.000 2058556789.py:9(addition_using_np)\n",
      "        1    0.000    0.000    0.000    0.000 <string>:1(<module>)\n",
      "        1    0.000    0.000    0.000    0.000 multiarray.py:741(dot)\n",
      "        1    0.000    0.000    0.000    0.000 {built-in method builtins.exec}\n",
      "        1    0.000    0.000    0.000    0.000 {method 'disable' of '_lsprof.Profiler' objects}\n",
      "\n",
      "\n"
     ]
    }
   ],
   "source": [
    "import numpy as np\n",
    "\n",
    "# initialize matrices using NumPy arrays\n",
    "A = np.array([[3.7827, 3.3454, 3.2341], [2.2122, 3.5678, 3.9087], [1.1234, 2.8934, 5.9087]])\n",
    "B = np.array([[3.1234, 3.0987, 3.1234], [2.1111, 3.2222, 3.3333], [1.0987, 1.3456, 5.1234]])\n",
    "C = np.array([[3.1243, 3.0989, 3.1256], [2.6721, 3.6785, 3.9017], [1.1254, 2.8956, 5.9187]])\n",
    "\n",
    "# Matrix Addition using numpy\n",
    "def addition_using_np(A, B):\n",
    "    return A + B\n",
    "\n",
    "# Matrix Multiplication using numpy\n",
    "def multiplication_using_np(A, B):\n",
    "    return np.dot(A, B)\n",
    "\n",
    "# Matrix Subtraction using numpy\n",
    "def subtraction_using_np(A, B):\n",
    "    return A - B\n",
    "\n",
    "print(\"Matrix addition using np: \", addition_using_np(A,B))\n",
    "print(\"Matrix subtraction using np: \", subtraction_using_np(A,B))\n",
    "print(\"Matrix multipication using np: \", multiplication_using_np(A,B))\n",
    "print(\"\\n\\n\\n\")\n",
    "\n",
    "# Profile the oerations\n",
    "import cProfile\n",
    "def profile_numpy_operations():\n",
    "    addition_using_np(A, B)\n",
    "    multiplication_using_np(A, C)\n",
    "    subtraction_using_np(A, B)\n",
    "\n",
    "cProfile.run('profile_numpy_operations()')"
   ]
  },
  {
   "cell_type": "code",
   "execution_count": null,
   "id": "6c1c60ad-822f-47cd-b903-d34f0d3cefe1",
   "metadata": {},
   "outputs": [],
   "source": []
  }
 ],
 "metadata": {
  "kernelspec": {
   "display_name": "Python 3 (ipykernel)",
   "language": "python",
   "name": "python3"
  },
  "language_info": {
   "codemirror_mode": {
    "name": "ipython",
    "version": 3
   },
   "file_extension": ".py",
   "mimetype": "text/x-python",
   "name": "python",
   "nbconvert_exporter": "python",
   "pygments_lexer": "ipython3",
   "version": "3.12.4"
  }
 },
 "nbformat": 4,
 "nbformat_minor": 5
}
